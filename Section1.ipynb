{
 "cells": [
  {
   "attachments": {},
   "cell_type": "markdown",
   "metadata": {},
   "source": [
    "Section 1: Introduction to python for Data Analysis and visualization"
   ]
  },
  {
   "attachments": {},
   "cell_type": "markdown",
   "metadata": {},
   "source": [
    "Python is a popular programming language used for data analysis and visualization. It is a powerfaul language with a variety of libraries that can be used to work with different types of data."
   ]
  },
  {
   "attachments": {},
   "cell_type": "markdown",
   "metadata": {},
   "source": [
    "Python has a variesty of libraries that can be used for data analysis and visualization. The most popular libraries include Pandas, Matplotlib, and Seaborn. To use these libraries in your python code, you need to import them first."
   ]
  },
  {
   "cell_type": "code",
   "execution_count": 2,
   "metadata": {},
   "outputs": [],
   "source": [
    "import pandas as pd\n",
    "import matplotlib.pyplot as plt\n",
    "import seaborn as sns"
   ]
  },
  {
   "cell_type": "code",
   "execution_count": 19,
   "metadata": {},
   "outputs": [
    {
     "name": "stdout",
     "output_type": "stream",
     "text": [
      "   column1  column2  column3\n",
      "0       10     13.0       20\n",
      "1       99     56.0       12\n",
      "2        9      0.0       16\n",
      "3        4     23.0       18\n",
      "4       23     45.0       34\n"
     ]
    }
   ],
   "source": [
    "# Read data from CSV file and select the relevant columns for analysis\n",
    "data = pd.read_csv('data.csv')\n",
    "# Remove any duplicate rows\n",
    "data = data.drop_duplicates()\n",
    "# Replace any missing values with a specific value\n",
    "data = data.fillna(0)\n",
    "# Clean the data by removing any rows with missing values\n",
    "data = data.dropna()\n",
    "# Select the relevant columns for analysis\n",
    "data = data[['column1', 'column2', 'column3']]\n",
    "data = data.head()\n",
    "print(data)"
   ]
  },
  {
   "attachments": {},
   "cell_type": "markdown",
   "metadata": {},
   "source": [
    "Data visualization basics (e.g., scatter plots, histograms, bar charts)\n",
    "Data visualization is a powerful way to explore and analyze data. Python has a variety of libraries that can be used for data visualization, including Matplotlib and Seaborn. \n",
    "Here's an example of creating a scatter plot using Matplotlib:"
   ]
  },
  {
   "cell_type": "code",
   "execution_count": 20,
   "metadata": {},
   "outputs": [
    {
     "data": {
      "image/png": "[encoded data removed]",
      "text/plain": [
       "<Figure size 640x480 with 1 Axes>"
      ]
     },
     "metadata": {},
     "output_type": "display_data"
    }
   ],
   "source": [
    "# Create a scatter plot of two columns\n",
    "plt.scatter(data['column1'], data['column2'])\n",
    "plt.xlabel('col1')\n",
    "plt.ylabel('col2')\n",
    "plt.show()"
   ]
  },
  {
   "cell_type": "code",
   "execution_count": 21,
   "metadata": {},
   "outputs": [
    {
     "name": "stdout",
     "output_type": "stream",
     "text": [
      "   column1  column2  column3\n",
      "1       99     56.0       12\n",
      "4       23     45.0       34\n"
     ]
    }
   ],
   "source": [
    "# Filter the data to include only rows where column1 is greater than 10\n",
    "filtered_data = data[data['column1'] > 10]\n",
    "print(filtered_data)"
   ]
  },
  {
   "cell_type": "code",
   "execution_count": 22,
   "metadata": {},
   "outputs": [
    {
     "name": "stdout",
     "output_type": "stream",
     "text": [
      "   column1  column2  column3\n",
      "3        4     23.0       18\n",
      "2        9      0.0       16\n",
      "0       10     13.0       20\n",
      "4       23     45.0       34\n",
      "1       99     56.0       12\n"
     ]
    }
   ],
   "source": [
    "# Sort the data by column1 in ascending order\n",
    "sorted_data = data.sort_values('column1', ascending=True)\n",
    "print(sorted_data)"
   ]
  },
  {
   "cell_type": "code",
   "execution_count": 23,
   "metadata": {},
   "outputs": [
    {
     "name": "stdout",
     "output_type": "stream",
     "text": [
      "column1\n",
      "4     23.0\n",
      "9      0.0\n",
      "10    13.0\n",
      "23    45.0\n",
      "99    56.0\n",
      "Name: column2, dtype: float64\n"
     ]
    }
   ],
   "source": [
    "# Group the data by column1 and calculate the mean of column2 for each group\n",
    "grouped_data = data.groupby('column1')['column2'].mean()\n",
    "print(grouped_data)"
   ]
  },
  {
   "cell_type": "code",
   "execution_count": 29,
   "metadata": {},
   "outputs": [
    {
     "name": "stdout",
     "output_type": "stream",
     "text": [
      "   a1  b   c\n",
      "0   0  0  11\n",
      "1   0  0   8\n",
      "2   1  1  10\n",
      "3   1  1   6\n",
      "4   2  1   6\n",
      "\n",
      "   a2  b   d\n",
      "0   0  0  22\n",
      "1   1  0  24\n",
      "2   1  0  25\n",
      "3   1  1  33\n",
      "4   3  1  37\n"
     ]
    },
    {
     "data": {
      "text/html": [
       "<div>\n",
       "<style scoped>\n",
       "    .dataframe tbody tr th:only-of-type {\n",
       "        vertical-align: middle;\n",
       "    }\n",
       "\n",
       "    .dataframe tbody tr th {\n",
       "        vertical-align: top;\n",
       "    }\n",
       "\n",
       "    .dataframe thead th {\n",
       "        text-align: right;\n",
       "    }\n",
       "</style>\n",
       "<table border=\"1\" class=\"dataframe\">\n",
       "  <thead>\n",
       "    <tr style=\"text-align: right;\">\n",
       "      <th></th>\n",
       "      <th>a1</th>\n",
       "      <th>b</th>\n",
       "      <th>c</th>\n",
       "      <th>a2</th>\n",
       "      <th>d</th>\n",
       "    </tr>\n",
       "  </thead>\n",
       "  <tbody>\n",
       "    <tr>\n",
       "      <th>0</th>\n",
       "      <td>0</td>\n",
       "      <td>0</td>\n",
       "      <td>11</td>\n",
       "      <td>0.0</td>\n",
       "      <td>22.0</td>\n",
       "    </tr>\n",
       "    <tr>\n",
       "      <th>1</th>\n",
       "      <td>0</td>\n",
       "      <td>0</td>\n",
       "      <td>8</td>\n",
       "      <td>0.0</td>\n",
       "      <td>22.0</td>\n",
       "    </tr>\n",
       "    <tr>\n",
       "      <th>2</th>\n",
       "      <td>1</td>\n",
       "      <td>1</td>\n",
       "      <td>10</td>\n",
       "      <td>1.0</td>\n",
       "      <td>33.0</td>\n",
       "    </tr>\n",
       "    <tr>\n",
       "      <th>3</th>\n",
       "      <td>1</td>\n",
       "      <td>1</td>\n",
       "      <td>6</td>\n",
       "      <td>1.0</td>\n",
       "      <td>33.0</td>\n",
       "    </tr>\n",
       "    <tr>\n",
       "      <th>4</th>\n",
       "      <td>2</td>\n",
       "      <td>1</td>\n",
       "      <td>6</td>\n",
       "      <td>NaN</td>\n",
       "      <td>NaN</td>\n",
       "    </tr>\n",
       "  </tbody>\n",
       "</table>\n",
       "</div>"
      ],
      "text/plain": [
       "   a1  b   c   a2     d\n",
       "0   0  0  11  0.0  22.0\n",
       "1   0  0   8  0.0  22.0\n",
       "2   1  1  10  1.0  33.0\n",
       "3   1  1   6  1.0  33.0\n",
       "4   2  1   6  NaN   NaN"
      ]
     },
     "execution_count": 29,
     "metadata": {},
     "output_type": "execute_result"
    }
   ],
   "source": [
    "# Merge two dataframes on a common column\n",
    "#create DataFrames\n",
    "#create and view first DataFrame\n",
    "df1 = pd.DataFrame({'a1': [0, 0, 1, 1, 2],\n",
    "                   'b': [0, 0, 1, 1, 1],\n",
    "                   'c': [11, 8, 10, 6, 6]})\n",
    "print(df1, end='\\n\\n')\n",
    "\n",
    "#create and view second DataFrame \n",
    "df2 = pd.DataFrame({'a2': [0, 1, 1, 1, 3],\n",
    "                   'b': [0, 0, 0, 1, 1],\n",
    "                   'd': [22, 24, 25, 33, 37]})\n",
    "print(df2)\n",
    "\n",
    "pd.merge(df1, df2, how='left', left_on=['a1', 'b'], right_on = ['a2','b'])\n"
   ]
  },
  {
   "cell_type": "code",
   "execution_count": 31,
   "metadata": {},
   "outputs": [
    {
     "data": {
      "text/html": [
       "<div>\n",
       "<style scoped>\n",
       "    .dataframe tbody tr th:only-of-type {\n",
       "        vertical-align: middle;\n",
       "    }\n",
       "\n",
       "    .dataframe tbody tr th {\n",
       "        vertical-align: top;\n",
       "    }\n",
       "\n",
       "    .dataframe thead th {\n",
       "        text-align: right;\n",
       "    }\n",
       "</style>\n",
       "<table border=\"1\" class=\"dataframe\">\n",
       "  <thead>\n",
       "    <tr style=\"text-align: right;\">\n",
       "      <th></th>\n",
       "      <th>a</th>\n",
       "      <th>b</th>\n",
       "      <th>c</th>\n",
       "      <th>d</th>\n",
       "    </tr>\n",
       "  </thead>\n",
       "  <tbody>\n",
       "    <tr>\n",
       "      <th>0</th>\n",
       "      <td>0</td>\n",
       "      <td>0</td>\n",
       "      <td>11</td>\n",
       "      <td>22.0</td>\n",
       "    </tr>\n",
       "    <tr>\n",
       "      <th>1</th>\n",
       "      <td>0</td>\n",
       "      <td>0</td>\n",
       "      <td>8</td>\n",
       "      <td>22.0</td>\n",
       "    </tr>\n",
       "    <tr>\n",
       "      <th>2</th>\n",
       "      <td>1</td>\n",
       "      <td>1</td>\n",
       "      <td>10</td>\n",
       "      <td>33.0</td>\n",
       "    </tr>\n",
       "    <tr>\n",
       "      <th>3</th>\n",
       "      <td>1</td>\n",
       "      <td>1</td>\n",
       "      <td>6</td>\n",
       "      <td>33.0</td>\n",
       "    </tr>\n",
       "    <tr>\n",
       "      <th>4</th>\n",
       "      <td>2</td>\n",
       "      <td>1</td>\n",
       "      <td>6</td>\n",
       "      <td>NaN</td>\n",
       "    </tr>\n",
       "  </tbody>\n",
       "</table>\n",
       "</div>"
      ],
      "text/plain": [
       "   a  b   c     d\n",
       "0  0  0  11  22.0\n",
       "1  0  0   8  22.0\n",
       "2  1  1  10  33.0\n",
       "3  1  1   6  33.0\n",
       "4  2  1   6   NaN"
      ]
     },
     "execution_count": 31,
     "metadata": {},
     "output_type": "execute_result"
    }
   ],
   "source": [
    "#create DataFrames\n",
    "df1 = pd.DataFrame({'a': [0, 0, 1, 1, 2],\n",
    "                   'b': [0, 0, 1, 1, 1],\n",
    "                   'c': [11, 8, 10, 6, 6]})\n",
    "\n",
    "df2 = pd.DataFrame({'a': [0, 1, 1, 1, 3],\n",
    "                   'b': [0, 0, 0, 1, 1],\n",
    "                   'd': [22, 24, 25, 33, 37]})\n",
    "\n",
    "pd.merge(df1, df2, how='left', on=['a', 'b'])"
   ]
  }
 ],
 "metadata": {
  "kernelspec": {
   "display_name": "base",
   "language": "python",
   "name": "python3"
  },
  "language_info": {
   "codemirror_mode": {
    "name": "ipython",
    "version": 3
   },
   "file_extension": ".py",
   "mimetype": "text/x-python",
   "name": "python",
   "nbconvert_exporter": "python",
   "pygments_lexer": "ipython3",
   "version": "3.10.9"
  },
  "orig_nbformat": 4
 },
 "nbformat": 4,
 "nbformat_minor": 2
}
